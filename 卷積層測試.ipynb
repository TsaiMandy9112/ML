{
  "cells": [
    {
      "cell_type": "markdown",
      "metadata": {
        "id": "TuM64uLKkaPW"
      },
      "source": [
        "#上課練習"
      ]
    },
    {
      "cell_type": "code",
      "execution_count": 1,
      "metadata": {
        "id": "LLnwGt6tEDkP"
      },
      "outputs": [],
      "source": [
        "from tensorflow.keras.datasets import mnist\n",
        "from tensorflow.keras.models import Sequential\n",
        "from tensorflow.keras.layers import Dense, Dropout\n",
        "from tensorflow.keras.utils import to_categorical\n",
        "from tensorflow.keras.layers import Flatten, Conv2D, MaxPooling2D # new!"
      ]
    },
    {
      "cell_type": "code",
      "execution_count": null,
      "metadata": {
        "colab": {
          "base_uri": "https://localhost:8080/"
        },
        "id": "UjkQWKpYWOT_",
        "outputId": "aee2309c-dde6-4161-d285-54ce7c961373"
      },
      "outputs": [
        {
          "name": "stdout",
          "output_type": "stream",
          "text": [
            "Downloading data from https://storage.googleapis.com/tensorflow/tf-keras-datasets/mnist.npz\n",
            "11490434/11490434 [==============================] - 1s 0us/step\n"
          ]
        }
      ],
      "source": [
        "(X_train, y_train), (X_test, y_test) = mnist.load_data()"
      ]
    },
    {
      "cell_type": "code",
      "execution_count": null,
      "metadata": {
        "id": "adJLuiOjWRHm"
      },
      "outputs": [],
      "source": [
        "X_train = X_train.reshape(60000, 28, 28, 1).astype('float32')\n",
        "X_test = X_test.reshape(10000, 28, 28, 1).astype('float32')"
      ]
    },
    {
      "cell_type": "code",
      "execution_count": null,
      "metadata": {
        "id": "pCmDysTqe4Nu"
      },
      "outputs": [],
      "source": [
        "X_train /= 255\n",
        "X_test /= 255"
      ]
    },
    {
      "cell_type": "code",
      "execution_count": null,
      "metadata": {
        "id": "rm8uJeWleg2r"
      },
      "outputs": [],
      "source": [
        "n_classes = 10    #先設編碼成10個值，代表0~9這10個數字的機率\n",
        "y_train = to_categorical(y_train, n_classes)  #將訓練集的標籤(y_train)做one-hot編碼\n",
        "y_test = to_categorical(y_test, n_classes)    #將測試集的標籤(y_test)做one-hot編碼"
      ]
    },
    {
      "cell_type": "code",
      "execution_count": null,
      "metadata": {
        "colab": {
          "base_uri": "https://localhost:8080/"
        },
        "id": "I8X8w5rjeg5x",
        "outputId": "6d8d4edc-cdd0-45f0-f0cf-58e2c5ce3259"
      },
      "outputs": [
        {
          "data": {
            "text/plain": [
              "array([0., 0., 0., 0., 0., 1., 0., 0., 0., 0.], dtype=float32)"
            ]
          },
          "execution_count": 17,
          "metadata": {},
          "output_type": "execute_result"
        }
      ],
      "source": [
        "y_train[0]"
      ]
    },
    {
      "cell_type": "markdown",
      "metadata": {
        "id": "NEeVjgdNWZ8c"
      },
      "source": [
        "##規劃 CNN 模型的架構"
      ]
    },
    {
      "cell_type": "code",
      "execution_count": null,
      "metadata": {
        "id": "AgdF7JbkWb-5"
      },
      "outputs": [],
      "source": [
        "model = Sequential()\n",
        "\n",
        "#第一卷積層\n",
        "model.add(Conv2D(32, kernel_size=(3, 3), activation='relu', input_shape=(120, 120, 3)))\n",
        "\n",
        "#第二卷積層，並搭配最大池化層與丟棄層\n",
        "model.add(Conv2D(64, kernel_size=(3, 3), activation='relu'))\n",
        "model.add(MaxPooling2D(pool_size=(2, 2)))\n",
        "model.add(Dropout(0.25))\n",
        "\n",
        "#第三層卷積層\n",
        "model.add(Conv2D(128, kernel_size=(3, 3), activation='relu'))\n",
        "model.add(MaxPooling2D(pool_size=(2, 2)))\n",
        "model.add(Dropout(0.33))\n",
        "model.add(Flatten())\n",
        "\n",
        "#搭配丟棄法的密集隱藏層\n",
        "model.add(Dense(128, activation='relu'))\n",
        "model.add(Dropout(0.5))\n",
        "\n",
        "#輸出層\n",
        "model.add(Dense(n_classes, activation='softmax'))"
      ]
    },
    {
      "cell_type": "code",
      "execution_count": null,
      "metadata": {
        "colab": {
          "base_uri": "https://localhost:8080/"
        },
        "id": "6ZuidlYXXYYQ",
        "outputId": "5db81df8-940c-4d87-91c7-bfd306b17d25"
      },
      "outputs": [
        {
          "name": "stdout",
          "output_type": "stream",
          "text": [
            "Model: \"sequential_4\"\n",
            "_________________________________________________________________\n",
            " Layer (type)                Output Shape              Param #   \n",
            "=================================================================\n",
            " conv2d_8 (Conv2D)           (None, 26, 26, 32)        320       \n",
            "                                                                 \n",
            " conv2d_9 (Conv2D)           (None, 24, 24, 64)        18496     \n",
            "                                                                 \n",
            " max_pooling2d_4 (MaxPoolin  (None, 12, 12, 64)        0         \n",
            " g2D)                                                            \n",
            "                                                                 \n",
            " dropout_8 (Dropout)         (None, 12, 12, 64)        0         \n",
            "                                                                 \n",
            " flatten_4 (Flatten)         (None, 9216)              0         \n",
            "                                                                 \n",
            " dense_4 (Dense)             (None, 128)               1179776   \n",
            "                                                                 \n",
            " dropout_9 (Dropout)         (None, 128)               0         \n",
            "                                                                 \n",
            " dense_5 (Dense)             (None, 10)                1290      \n",
            "                                                                 \n",
            "=================================================================\n",
            "Total params: 1199882 (4.58 MB)\n",
            "Trainable params: 1199882 (4.58 MB)\n",
            "Non-trainable params: 0 (0.00 Byte)\n",
            "_________________________________________________________________\n"
          ]
        }
      ],
      "source": [
        "model.summary()"
      ]
    },
    {
      "cell_type": "markdown",
      "metadata": {
        "id": "5DZ8t_b-Xmn-"
      },
      "source": [
        "##編譯、訓練模型"
      ]
    },
    {
      "cell_type": "code",
      "execution_count": null,
      "metadata": {
        "id": "L73J7uBxXoJV"
      },
      "outputs": [],
      "source": [
        "model.compile(loss='categorical_crossentropy', optimizer='adam', metrics=['accuracy'])"
      ]
    },
    {
      "cell_type": "code",
      "execution_count": null,
      "metadata": {
        "colab": {
          "base_uri": "https://localhost:8080/"
        },
        "id": "f821el_vXqs7",
        "outputId": "338eca3b-c0a1-4863-dcb0-c14c47d5525b"
      },
      "outputs": [
        {
          "name": "stdout",
          "output_type": "stream",
          "text": [
            "Epoch 1/10\n",
            "469/469 [==============================] - 132s 279ms/step - loss: 1.1861 - accuracy: 0.6048 - val_loss: 0.3468 - val_accuracy: 0.8997\n",
            "Epoch 2/10\n",
            "469/469 [==============================] - 131s 278ms/step - loss: 0.4609 - accuracy: 0.8589 - val_loss: 0.2520 - val_accuracy: 0.9234\n",
            "Epoch 3/10\n",
            "469/469 [==============================] - 128s 272ms/step - loss: 0.3942 - accuracy: 0.8778 - val_loss: 0.2158 - val_accuracy: 0.9361\n",
            "Epoch 4/10\n",
            "469/469 [==============================] - 127s 271ms/step - loss: 0.3635 - accuracy: 0.8878 - val_loss: 0.1921 - val_accuracy: 0.9431\n",
            "Epoch 5/10\n",
            "469/469 [==============================] - 134s 285ms/step - loss: 0.3458 - accuracy: 0.8939 - val_loss: 0.1794 - val_accuracy: 0.9459\n",
            "Epoch 6/10\n",
            "469/469 [==============================] - 128s 273ms/step - loss: 0.3296 - accuracy: 0.8994 - val_loss: 0.1675 - val_accuracy: 0.9499\n",
            "Epoch 7/10\n",
            "469/469 [==============================] - 126s 270ms/step - loss: 0.3200 - accuracy: 0.9013 - val_loss: 0.1602 - val_accuracy: 0.9512\n",
            "Epoch 8/10\n",
            "469/469 [==============================] - 134s 285ms/step - loss: 0.3092 - accuracy: 0.9039 - val_loss: 0.1598 - val_accuracy: 0.9517\n",
            "Epoch 9/10\n",
            "469/469 [==============================] - 128s 273ms/step - loss: 0.3010 - accuracy: 0.9063 - val_loss: 0.1523 - val_accuracy: 0.9527\n",
            "Epoch 10/10\n",
            "469/469 [==============================] - 126s 269ms/step - loss: 0.2953 - accuracy: 0.9097 - val_loss: 0.1499 - val_accuracy: 0.9557\n"
          ]
        },
        {
          "data": {
            "text/plain": [
              "<keras.src.callbacks.History at 0x7896d35fdde0>"
            ]
          },
          "execution_count": 21,
          "metadata": {},
          "output_type": "execute_result"
        }
      ],
      "source": [
        "#註：由於神經網路的初始權重參數是隨機設定的, 參雜了隨機性, 因此底下 (或您重跑一次) 的結果不會與書中完全一樣, 但模型的能力是相近的\n",
        "model.fit(X_train, y_train, batch_size=128, epochs=10, verbose=1,\n",
        "          validation_data=(X_test, y_test))"
      ]
    },
    {
      "cell_type": "markdown",
      "metadata": {
        "id": "m6Ws_9iOZT6f"
      },
      "source": [
        "#作業(要記得切20%當驗證資料)"
      ]
    },
    {
      "cell_type": "markdown",
      "metadata": {
        "id": "keRlpvQZaXE2"
      },
      "source": [
        "###載入先前儲存的資料"
      ]
    },
    {
      "cell_type": "code",
      "execution_count": 102,
      "metadata": {
        "id": "j8SvCKeWZg-5"
      },
      "outputs": [],
      "source": [
        "import numpy as np\n",
        "\n",
        "X_train = np.load('/content/X_train.npy')\n",
        "y_train = np.load('/content/y_train.npy')"
      ]
    },
    {
      "cell_type": "code",
      "execution_count": 103,
      "metadata": {
        "colab": {
          "base_uri": "https://localhost:8080/"
        },
        "id": "_Dt1yDG9hGE1",
        "outputId": "a0e0016a-6c86-445f-a1d5-143bfae99e7d"
      },
      "outputs": [
        {
          "output_type": "stream",
          "name": "stdout",
          "text": [
            "(6717, 120, 120, 3)\n"
          ]
        }
      ],
      "source": [
        "print(X_train.shape)"
      ]
    },
    {
      "cell_type": "code",
      "execution_count": 104,
      "metadata": {
        "colab": {
          "base_uri": "https://localhost:8080/"
        },
        "id": "5pCP5GWlqLCh",
        "outputId": "a9f44fe0-e9c9-4628-c7a7-474cbcce9613"
      },
      "outputs": [
        {
          "output_type": "stream",
          "name": "stdout",
          "text": [
            "(6717,)\n"
          ]
        }
      ],
      "source": [
        "print(y_train.shape)"
      ]
    },
    {
      "cell_type": "code",
      "execution_count": 105,
      "metadata": {
        "id": "8ssBCaQkq_Ef"
      },
      "outputs": [],
      "source": [
        "from sklearn.model_selection import train_test_split"
      ]
    },
    {
      "cell_type": "code",
      "execution_count": 106,
      "metadata": {
        "id": "GYDEfX7Xforr"
      },
      "outputs": [],
      "source": [
        "X_train, X_test, y_train, y_test = train_test_split(X_train, y_train,\n",
        "                      test_size = 0.2, random_state = 1)"
      ]
    },
    {
      "cell_type": "code",
      "execution_count": 107,
      "metadata": {
        "id": "1mpwERTBqjvQ"
      },
      "outputs": [],
      "source": [
        "X_test, X_vali, y_test, y_vali = train_test_split(X_test, y_test,\n",
        "                      test_size = 0.5, random_state = 1)"
      ]
    },
    {
      "cell_type": "code",
      "execution_count": 108,
      "metadata": {
        "colab": {
          "base_uri": "https://localhost:8080/"
        },
        "id": "LhUC_FEjrnn0",
        "outputId": "ce5e5c52-6cba-41da-d4f2-c686e24a8399"
      },
      "outputs": [
        {
          "output_type": "stream",
          "name": "stdout",
          "text": [
            "(5373, 120, 120, 3)\n"
          ]
        }
      ],
      "source": [
        "print(X_train.shape)"
      ]
    },
    {
      "cell_type": "code",
      "execution_count": 109,
      "metadata": {
        "colab": {
          "base_uri": "https://localhost:8080/"
        },
        "id": "gSxODRbSrlwz",
        "outputId": "e5707be8-69ed-45d5-bde0-c27aa2c2352c"
      },
      "outputs": [
        {
          "output_type": "stream",
          "name": "stdout",
          "text": [
            "(672, 120, 120, 3)\n"
          ]
        }
      ],
      "source": [
        "print(X_test.shape)"
      ]
    },
    {
      "cell_type": "code",
      "execution_count": 110,
      "metadata": {
        "colab": {
          "base_uri": "https://localhost:8080/"
        },
        "id": "XeoN0nBt2NLo",
        "outputId": "52a719d9-017f-46c1-b3b8-83aa097a60c5"
      },
      "outputs": [
        {
          "output_type": "stream",
          "name": "stdout",
          "text": [
            "(672, 120, 120, 3)\n"
          ]
        }
      ],
      "source": [
        "print(X_vali.shape)"
      ]
    },
    {
      "cell_type": "code",
      "execution_count": 111,
      "metadata": {
        "id": "7FAIv4lEqsT4"
      },
      "outputs": [],
      "source": [
        "X_train = X_train.reshape(5373, 120, 120, 3).astype('float32')\n",
        "X_test = X_test.reshape(672, 120, 120, 3).astype('float32')\n",
        "X_vali = X_vali.reshape(672, 120, 120, 3).astype('float32')"
      ]
    },
    {
      "cell_type": "code",
      "execution_count": 112,
      "metadata": {
        "id": "amvulBSCrDYi"
      },
      "outputs": [],
      "source": [
        "X_train /= 255\n",
        "X_test /= 255\n",
        "X_vali /= 255"
      ]
    },
    {
      "cell_type": "code",
      "execution_count": 113,
      "metadata": {
        "id": "ZI1MoSkUrFrl"
      },
      "outputs": [],
      "source": [
        "from keras.utils import to_categorical\n",
        "\n",
        "n_classes = 3\n",
        "y_train = to_categorical(y_train, n_classes)  #將訓練集的標籤(y_train)做one-hot編碼\n",
        "y_test = to_categorical(y_test, n_classes)    #將測試集的標籤(y_test)做one-hot編碼\n",
        "y_vali = to_categorical(y_vali, n_classes)"
      ]
    },
    {
      "cell_type": "code",
      "execution_count": 114,
      "metadata": {
        "colab": {
          "base_uri": "https://localhost:8080/"
        },
        "id": "nTJW4yHprHo0",
        "outputId": "fa10d695-9b02-4d15-bb00-9639781b1ea1"
      },
      "outputs": [
        {
          "output_type": "execute_result",
          "data": {
            "text/plain": [
              "array([0., 0., 1.], dtype=float32)"
            ]
          },
          "metadata": {},
          "execution_count": 114
        }
      ],
      "source": [
        "y_train[0]"
      ]
    },
    {
      "cell_type": "code",
      "execution_count": 115,
      "metadata": {
        "id": "M4wUlrn9rJkQ"
      },
      "outputs": [],
      "source": [
        "model = Sequential()\n",
        "\n",
        "#第一卷積層\n",
        "model.add(Conv2D(32, kernel_size=(3, 3), activation='relu', input_shape=(120, 120, 3)))\n",
        "\n",
        "#第二卷積層，並搭配最大池化層與丟棄層\n",
        "model.add(Conv2D(64, kernel_size=(3, 3), activation='relu'))\n",
        "model.add(MaxPooling2D(pool_size=(2, 2)))\n",
        "\n",
        "model.add(Conv2D(128, kernel_size=(3, 3), activation='relu'))\n",
        "model.add(MaxPooling2D(pool_size=(2, 2)))\n",
        "\n",
        "model.add(Conv2D(256, kernel_size=(3, 3), activation='relu'))\n",
        "model.add(MaxPooling2D(pool_size=(2, 2)))\n",
        "model.add(Dropout(0.25))\n",
        "\n",
        "model.add(Conv2D(512, kernel_size=(3, 3), activation='relu'))\n",
        "model.add(MaxPooling2D(pool_size=(2, 2)))\n",
        "model.add(Flatten())\n",
        "\n",
        "#搭配丟棄法的密集隱藏層\n",
        "model.add(Dense(1024, activation='relu'))\n",
        "model.add(Dropout(0.3))\n",
        "\n",
        "#輸出層\n",
        "model.add(Dense(n_classes, activation='softmax'))"
      ]
    },
    {
      "cell_type": "code",
      "source": [],
      "metadata": {
        "id": "0p93TW6tXofM"
      },
      "execution_count": null,
      "outputs": []
    },
    {
      "cell_type": "code",
      "execution_count": 116,
      "metadata": {
        "colab": {
          "base_uri": "https://localhost:8080/"
        },
        "id": "hO2r94SjrMPn",
        "outputId": "8b0852fa-8b2a-4012-bd95-046251d9420f"
      },
      "outputs": [
        {
          "output_type": "stream",
          "name": "stdout",
          "text": [
            "Model: \"sequential_22\"\n",
            "_________________________________________________________________\n",
            " Layer (type)                Output Shape              Param #   \n",
            "=================================================================\n",
            " conv2d_98 (Conv2D)          (None, 118, 118, 32)      896       \n",
            "                                                                 \n",
            " conv2d_99 (Conv2D)          (None, 116, 116, 64)      18496     \n",
            "                                                                 \n",
            " max_pooling2d_78 (MaxPooli  (None, 58, 58, 64)        0         \n",
            " ng2D)                                                           \n",
            "                                                                 \n",
            " conv2d_100 (Conv2D)         (None, 56, 56, 128)       73856     \n",
            "                                                                 \n",
            " max_pooling2d_79 (MaxPooli  (None, 28, 28, 128)       0         \n",
            " ng2D)                                                           \n",
            "                                                                 \n",
            " conv2d_101 (Conv2D)         (None, 26, 26, 256)       295168    \n",
            "                                                                 \n",
            " max_pooling2d_80 (MaxPooli  (None, 13, 13, 256)       0         \n",
            " ng2D)                                                           \n",
            "                                                                 \n",
            " dropout_28 (Dropout)        (None, 13, 13, 256)       0         \n",
            "                                                                 \n",
            " conv2d_102 (Conv2D)         (None, 11, 11, 512)       1180160   \n",
            "                                                                 \n",
            " max_pooling2d_81 (MaxPooli  (None, 5, 5, 512)         0         \n",
            " ng2D)                                                           \n",
            "                                                                 \n",
            " flatten_15 (Flatten)        (None, 12800)             0         \n",
            "                                                                 \n",
            " dense_28 (Dense)            (None, 1024)              13108224  \n",
            "                                                                 \n",
            " dropout_29 (Dropout)        (None, 1024)              0         \n",
            "                                                                 \n",
            " dense_29 (Dense)            (None, 3)                 3075      \n",
            "                                                                 \n",
            "=================================================================\n",
            "Total params: 14679875 (56.00 MB)\n",
            "Trainable params: 14679875 (56.00 MB)\n",
            "Non-trainable params: 0 (0.00 Byte)\n",
            "_________________________________________________________________\n"
          ]
        }
      ],
      "source": [
        "model.summary()"
      ]
    },
    {
      "cell_type": "code",
      "execution_count": 117,
      "metadata": {
        "id": "INGTv61yrOr2"
      },
      "outputs": [],
      "source": [
        "model.compile(loss='categorical_crossentropy', optimizer='adam', metrics=['accuracy'])"
      ]
    },
    {
      "cell_type": "code",
      "execution_count": 118,
      "metadata": {
        "colab": {
          "base_uri": "https://localhost:8080/"
        },
        "id": "YKVx1wx2rQWG",
        "outputId": "3b50e1a4-2edf-48d6-fe29-5c6788e1284f"
      },
      "outputs": [
        {
          "output_type": "stream",
          "name": "stdout",
          "text": [
            "Train on 5373 samples, validate on 672 samples\n",
            "Epoch 1/50\n",
            "5373/5373 [==============================] - 18s 3ms/sample - loss: 1.1061 - acc: 0.5487 - val_loss: 0.9930 - val_acc: 0.5580\n",
            "Epoch 2/50\n",
            "5373/5373 [==============================] - 9s 2ms/sample - loss: 0.9668 - acc: 0.5764 - val_loss: 0.9767 - val_acc: 0.5580\n",
            "Epoch 3/50\n",
            "5373/5373 [==============================] - 9s 2ms/sample - loss: 0.8515 - acc: 0.6200 - val_loss: 0.7958 - val_acc: 0.6384\n",
            "Epoch 4/50\n",
            "5373/5373 [==============================] - 9s 2ms/sample - loss: 0.7518 - acc: 0.6655 - val_loss: 0.7927 - val_acc: 0.6548\n",
            "Epoch 5/50\n",
            "5373/5373 [==============================] - 10s 2ms/sample - loss: 0.7011 - acc: 0.6901 - val_loss: 0.7644 - val_acc: 0.6741\n",
            "Epoch 6/50\n",
            "5373/5373 [==============================] - 10s 2ms/sample - loss: 0.6574 - acc: 0.7167 - val_loss: 0.6923 - val_acc: 0.6979\n",
            "Epoch 7/50\n",
            "5373/5373 [==============================] - 10s 2ms/sample - loss: 0.6003 - acc: 0.7506 - val_loss: 0.6862 - val_acc: 0.7158\n",
            "Epoch 8/50\n",
            "5373/5373 [==============================] - 10s 2ms/sample - loss: 0.5615 - acc: 0.7627 - val_loss: 0.6713 - val_acc: 0.7083\n",
            "Epoch 9/50\n",
            "5373/5373 [==============================] - 10s 2ms/sample - loss: 0.5457 - acc: 0.7729 - val_loss: 0.6579 - val_acc: 0.7277\n",
            "Epoch 10/50\n",
            "5373/5373 [==============================] - 10s 2ms/sample - loss: 0.4753 - acc: 0.8050 - val_loss: 0.6045 - val_acc: 0.7426\n",
            "Epoch 11/50\n",
            "5373/5373 [==============================] - 9s 2ms/sample - loss: 0.4728 - acc: 0.8042 - val_loss: 0.6103 - val_acc: 0.7336\n",
            "Epoch 12/50\n",
            "5373/5373 [==============================] - 10s 2ms/sample - loss: 0.4033 - acc: 0.8323 - val_loss: 0.6346 - val_acc: 0.7426\n",
            "Epoch 13/50\n",
            "5373/5373 [==============================] - 10s 2ms/sample - loss: 0.3598 - acc: 0.8580 - val_loss: 0.6279 - val_acc: 0.7351\n",
            "Epoch 14/50\n",
            "5373/5373 [==============================] - 10s 2ms/sample - loss: 0.3098 - acc: 0.8788 - val_loss: 0.6062 - val_acc: 0.7530\n",
            "Epoch 15/50\n",
            "5373/5373 [==============================] - 10s 2ms/sample - loss: 0.2699 - acc: 0.8965 - val_loss: 0.6251 - val_acc: 0.7857\n",
            "Epoch 16/50\n",
            "5373/5373 [==============================] - 10s 2ms/sample - loss: 0.2195 - acc: 0.9122 - val_loss: 0.7621 - val_acc: 0.7753\n",
            "Epoch 17/50\n",
            "5373/5373 [==============================] - 10s 2ms/sample - loss: 0.1756 - acc: 0.9311 - val_loss: 0.7397 - val_acc: 0.7768\n",
            "Epoch 18/50\n",
            "5373/5373 [==============================] - 10s 2ms/sample - loss: 0.1343 - acc: 0.9505 - val_loss: 0.8137 - val_acc: 0.7679\n",
            "Epoch 19/50\n",
            "5373/5373 [==============================] - 10s 2ms/sample - loss: 0.1171 - acc: 0.9548 - val_loss: 0.9512 - val_acc: 0.7545\n",
            "Epoch 20/50\n",
            "5373/5373 [==============================] - 10s 2ms/sample - loss: 0.0809 - acc: 0.9706 - val_loss: 0.9691 - val_acc: 0.7783\n",
            "Epoch 21/50\n",
            "5373/5373 [==============================] - 10s 2ms/sample - loss: 0.0778 - acc: 0.9721 - val_loss: 1.0883 - val_acc: 0.7634\n",
            "Epoch 22/50\n",
            "5373/5373 [==============================] - 10s 2ms/sample - loss: 0.0561 - acc: 0.9814 - val_loss: 1.1201 - val_acc: 0.7798\n",
            "Epoch 23/50\n",
            "5373/5373 [==============================] - 10s 2ms/sample - loss: 0.0539 - acc: 0.9816 - val_loss: 1.1693 - val_acc: 0.7768\n",
            "Epoch 24/50\n",
            "5373/5373 [==============================] - 10s 2ms/sample - loss: 0.0559 - acc: 0.9797 - val_loss: 1.0561 - val_acc: 0.7827\n",
            "Epoch 25/50\n",
            "5373/5373 [==============================] - 10s 2ms/sample - loss: 0.0518 - acc: 0.9834 - val_loss: 1.1674 - val_acc: 0.7872\n",
            "Epoch 26/50\n",
            "5373/5373 [==============================] - 10s 2ms/sample - loss: 0.0389 - acc: 0.9881 - val_loss: 1.2546 - val_acc: 0.7679\n",
            "Epoch 27/50\n",
            "5373/5373 [==============================] - 10s 2ms/sample - loss: 0.0366 - acc: 0.9875 - val_loss: 1.1517 - val_acc: 0.7723\n",
            "Epoch 28/50\n",
            "5373/5373 [==============================] - 10s 2ms/sample - loss: 0.0441 - acc: 0.9838 - val_loss: 1.2920 - val_acc: 0.7485\n",
            "Epoch 29/50\n",
            "5373/5373 [==============================] - 10s 2ms/sample - loss: 0.0329 - acc: 0.9890 - val_loss: 1.5022 - val_acc: 0.7723\n",
            "Epoch 30/50\n",
            "5373/5373 [==============================] - 10s 2ms/sample - loss: 0.0459 - acc: 0.9870 - val_loss: 1.2382 - val_acc: 0.7723\n",
            "Epoch 31/50\n",
            "5373/5373 [==============================] - 10s 2ms/sample - loss: 0.0212 - acc: 0.9939 - val_loss: 1.3529 - val_acc: 0.7827\n",
            "Epoch 32/50\n",
            "5373/5373 [==============================] - 10s 2ms/sample - loss: 0.0146 - acc: 0.9961 - val_loss: 1.4637 - val_acc: 0.7872\n",
            "Epoch 33/50\n",
            "5373/5373 [==============================] - 10s 2ms/sample - loss: 0.0150 - acc: 0.9946 - val_loss: 1.7639 - val_acc: 0.7693\n",
            "Epoch 34/50\n",
            "5373/5373 [==============================] - 10s 2ms/sample - loss: 0.0242 - acc: 0.9916 - val_loss: 1.3216 - val_acc: 0.7768\n",
            "Epoch 35/50\n",
            "5373/5373 [==============================] - 10s 2ms/sample - loss: 0.0115 - acc: 0.9966 - val_loss: 1.5099 - val_acc: 0.7783\n",
            "Epoch 36/50\n",
            "5373/5373 [==============================] - 10s 2ms/sample - loss: 0.0197 - acc: 0.9933 - val_loss: 1.6082 - val_acc: 0.7679\n",
            "Epoch 37/50\n",
            "5373/5373 [==============================] - 10s 2ms/sample - loss: 0.0243 - acc: 0.9927 - val_loss: 1.5618 - val_acc: 0.7664\n",
            "Epoch 38/50\n",
            "5373/5373 [==============================] - 10s 2ms/sample - loss: 0.0286 - acc: 0.9896 - val_loss: 1.5509 - val_acc: 0.7783\n",
            "Epoch 39/50\n",
            "5373/5373 [==============================] - 10s 2ms/sample - loss: 0.0289 - acc: 0.9913 - val_loss: 1.5960 - val_acc: 0.7515\n",
            "Epoch 40/50\n",
            "5373/5373 [==============================] - 9s 2ms/sample - loss: 0.0227 - acc: 0.9935 - val_loss: 1.5227 - val_acc: 0.7738\n",
            "Epoch 41/50\n",
            "5373/5373 [==============================] - 10s 2ms/sample - loss: 0.0284 - acc: 0.9933 - val_loss: 1.4493 - val_acc: 0.7917\n",
            "Epoch 42/50\n",
            "5373/5373 [==============================] - 10s 2ms/sample - loss: 0.0198 - acc: 0.9950 - val_loss: 1.8846 - val_acc: 0.7753\n",
            "Epoch 43/50\n",
            "5373/5373 [==============================] - 10s 2ms/sample - loss: 0.0514 - acc: 0.9814 - val_loss: 1.4217 - val_acc: 0.7693\n",
            "Epoch 44/50\n",
            "5373/5373 [==============================] - 9s 2ms/sample - loss: 0.0387 - acc: 0.9866 - val_loss: 1.3928 - val_acc: 0.7708\n",
            "Epoch 45/50\n",
            "5373/5373 [==============================] - 10s 2ms/sample - loss: 0.0223 - acc: 0.9918 - val_loss: 1.4254 - val_acc: 0.7693\n",
            "Epoch 46/50\n",
            "5373/5373 [==============================] - 10s 2ms/sample - loss: 0.0207 - acc: 0.9940 - val_loss: 1.6004 - val_acc: 0.7768\n",
            "Epoch 47/50\n",
            "5373/5373 [==============================] - 10s 2ms/sample - loss: 0.0106 - acc: 0.9974 - val_loss: 1.5404 - val_acc: 0.7946\n",
            "Epoch 48/50\n",
            "5373/5373 [==============================] - 9s 2ms/sample - loss: 0.0082 - acc: 0.9983 - val_loss: 1.6384 - val_acc: 0.7887\n",
            "Epoch 49/50\n",
            "5373/5373 [==============================] - 10s 2ms/sample - loss: 0.0063 - acc: 0.9974 - val_loss: 1.7301 - val_acc: 0.7991\n",
            "Epoch 50/50\n",
            "5373/5373 [==============================] - 9s 2ms/sample - loss: 0.0081 - acc: 0.9966 - val_loss: 1.8848 - val_acc: 0.7693\n"
          ]
        },
        {
          "output_type": "execute_result",
          "data": {
            "text/plain": [
              "<keras.src.callbacks.History at 0x7d091dc47490>"
            ]
          },
          "metadata": {},
          "execution_count": 118
        }
      ],
      "source": [
        "#註：由於神經網路的初始權重參數是隨機設定的, 參雜了隨機性, 因此底下 (或您重跑一次) 的結果不會與書中完全一樣, 但模型的能力是相近的\n",
        "model.fit(X_train, y_train, batch_size=128, epochs=50, verbose=1,\n",
        "          validation_data=(X_test, y_test))"
      ]
    },
    {
      "cell_type": "markdown",
      "metadata": {
        "id": "sqOfRIBRaffN"
      },
      "source": [
        "###儲存模型"
      ]
    },
    {
      "cell_type": "code",
      "execution_count": 119,
      "metadata": {
        "colab": {
          "base_uri": "https://localhost:8080/"
        },
        "id": "OaQ-mcrZahoZ",
        "outputId": "21e60934-a949-43b0-834c-f94f379cd6c9"
      },
      "outputs": [
        {
          "output_type": "stream",
          "name": "stdout",
          "text": [
            "Pet_cnn_model.h5 模型儲存完畢!\n"
          ]
        }
      ],
      "source": [
        "#from keras.models import model_from_join\n",
        "\n",
        "model.save(\"Pet_cnn_model.h5\")\n",
        "print('Pet_cnn_model.h5 模型儲存完畢!')"
      ]
    },
    {
      "cell_type": "markdown",
      "metadata": {
        "id": "wPEDwkTZuQTV"
      },
      "source": [
        "重新載入模型後，再重新預測"
      ]
    },
    {
      "cell_type": "code",
      "execution_count": 120,
      "metadata": {
        "colab": {
          "base_uri": "https://localhost:8080/"
        },
        "id": "iUTuPAyFt1Ig",
        "outputId": "4c2d33b9-fab0-4204-a078-328737f6260a"
      },
      "outputs": [
        {
          "output_type": "stream",
          "name": "stdout",
          "text": [
            "載入模型 Pet_cnn_mode.h5\n",
            "模型加載完畢!\n"
          ]
        }
      ],
      "source": [
        "# 從HDF5 檔案中載入模型\n",
        "from keras.models import load_model\n",
        "\n",
        "print('載入模型 Pet_cnn_mode.h5')\n",
        "model = load_model('Pet_cnn_model.h5')\n",
        "print('模型加載完畢!')"
      ]
    },
    {
      "cell_type": "code",
      "execution_count": 121,
      "metadata": {
        "colab": {
          "base_uri": "https://localhost:8080/"
        },
        "id": "p3wGLS9k0WbP",
        "outputId": "e0837077-c37c-4233-8073-1449782534a2"
      },
      "outputs": [
        {
          "output_type": "stream",
          "name": "stdout",
          "text": [
            "Train on 5373 samples, validate on 672 samples\n",
            "Epoch 1/20\n",
            "5373/5373 [==============================] - 10s 2ms/sample - loss: 0.0062 - acc: 0.9983 - val_loss: 1.9369 - val_acc: 0.7693\n",
            "Epoch 2/20\n",
            "5373/5373 [==============================] - 9s 2ms/sample - loss: 0.0348 - acc: 0.9892 - val_loss: 1.7692 - val_acc: 0.7842\n",
            "Epoch 3/20\n",
            "5373/5373 [==============================] - 9s 2ms/sample - loss: 0.0231 - acc: 0.9926 - val_loss: 1.5814 - val_acc: 0.7961\n",
            "Epoch 4/20\n",
            "5373/5373 [==============================] - 9s 2ms/sample - loss: 0.0123 - acc: 0.9961 - val_loss: 1.7256 - val_acc: 0.7902\n",
            "Epoch 5/20\n",
            "5373/5373 [==============================] - 9s 2ms/sample - loss: 0.0065 - acc: 0.9974 - val_loss: 1.8427 - val_acc: 0.7783\n",
            "Epoch 6/20\n",
            "5373/5373 [==============================] - 9s 2ms/sample - loss: 0.0083 - acc: 0.9976 - val_loss: 1.7550 - val_acc: 0.7842\n",
            "Epoch 7/20\n",
            "5373/5373 [==============================] - 9s 2ms/sample - loss: 0.0186 - acc: 0.9942 - val_loss: 1.8848 - val_acc: 0.7872\n",
            "Epoch 8/20\n",
            "5373/5373 [==============================] - 9s 2ms/sample - loss: 0.0116 - acc: 0.9963 - val_loss: 1.8843 - val_acc: 0.7917\n",
            "Epoch 9/20\n",
            "5373/5373 [==============================] - 9s 2ms/sample - loss: 0.0090 - acc: 0.9966 - val_loss: 1.9745 - val_acc: 0.7857\n",
            "Epoch 10/20\n",
            "5373/5373 [==============================] - 10s 2ms/sample - loss: 0.0193 - acc: 0.9931 - val_loss: 2.0041 - val_acc: 0.7277\n",
            "Epoch 11/20\n",
            "5373/5373 [==============================] - 9s 2ms/sample - loss: 0.0336 - acc: 0.9877 - val_loss: 1.7562 - val_acc: 0.7827\n",
            "Epoch 12/20\n",
            "5373/5373 [==============================] - 9s 2ms/sample - loss: 0.0282 - acc: 0.9907 - val_loss: 1.5419 - val_acc: 0.7664\n",
            "Epoch 13/20\n",
            "5373/5373 [==============================] - 9s 2ms/sample - loss: 0.0159 - acc: 0.9944 - val_loss: 1.5817 - val_acc: 0.7976\n",
            "Epoch 14/20\n",
            "5373/5373 [==============================] - 9s 2ms/sample - loss: 0.0174 - acc: 0.9953 - val_loss: 1.5904 - val_acc: 0.7768\n",
            "Epoch 15/20\n",
            "5373/5373 [==============================] - 9s 2ms/sample - loss: 0.0139 - acc: 0.9968 - val_loss: 1.6947 - val_acc: 0.7917\n",
            "Epoch 16/20\n",
            "5373/5373 [==============================] - 9s 2ms/sample - loss: 0.0093 - acc: 0.9974 - val_loss: 1.6829 - val_acc: 0.7753\n",
            "Epoch 17/20\n",
            "5373/5373 [==============================] - 9s 2ms/sample - loss: 0.0064 - acc: 0.9981 - val_loss: 1.9837 - val_acc: 0.7634\n",
            "Epoch 18/20\n",
            "5373/5373 [==============================] - 9s 2ms/sample - loss: 0.0052 - acc: 0.9983 - val_loss: 1.9583 - val_acc: 0.7932\n",
            "Epoch 19/20\n",
            "5373/5373 [==============================] - 9s 2ms/sample - loss: 0.0099 - acc: 0.9970 - val_loss: 2.1924 - val_acc: 0.7589\n",
            "Epoch 20/20\n",
            "5373/5373 [==============================] - 9s 2ms/sample - loss: 0.0421 - acc: 0.9872 - val_loss: 1.6141 - val_acc: 0.7649\n"
          ]
        },
        {
          "output_type": "execute_result",
          "data": {
            "text/plain": [
              "<keras.src.callbacks.History at 0x7d091789e5f0>"
            ]
          },
          "metadata": {},
          "execution_count": 121
        }
      ],
      "source": [
        "model.fit(X_train, y_train, batch_size=128, epochs=20, verbose=1,\n",
        "          validation_data=(X_vali, y_vali))"
      ]
    },
    {
      "cell_type": "markdown",
      "metadata": {
        "id": "XMwGHwd8YLut"
      },
      "source": [
        "#進階的 CNN 技術 (用 tf.Keras 重現 AlexNet 與 VGGNet 架構)"
      ]
    },
    {
      "cell_type": "code",
      "execution_count": 16,
      "metadata": {
        "id": "XDJFmjd1YNp3"
      },
      "outputs": [],
      "source": [
        "from tensorflow.keras.models import Sequential\n",
        "from tensorflow.keras.layers import Dense, Dropout, Flatten, Conv2D, MaxPooling2D\n",
        "from tensorflow.keras.layers import BatchNormalization"
      ]
    },
    {
      "cell_type": "code",
      "execution_count": 19,
      "metadata": {
        "id": "ZYvjcrS0YRW0",
        "colab": {
          "base_uri": "https://localhost:8080/",
          "height": 915
        },
        "outputId": "b2f6f8af-7e5a-4d89-9726-4b172e09e8cb"
      },
      "outputs": [
        {
          "output_type": "stream",
          "name": "stdout",
          "text": [
            "Collecting tflearn\n",
            "  Downloading tflearn-0.5.0.tar.gz (107 kB)\n",
            "\u001b[?25l     \u001b[90m━━━━━━━━━━━━━━━━━━━━━━━━━━━━━━━━━━━━━━━━\u001b[0m \u001b[32m0.0/107.3 kB\u001b[0m \u001b[31m?\u001b[0m eta \u001b[36m-:--:--\u001b[0m\r\u001b[2K     \u001b[90m━━━━━━━━━━━━━━━━━━━━━━━━━━━━━━━━━━━━━━━━\u001b[0m \u001b[32m107.3/107.3 kB\u001b[0m \u001b[31m3.5 MB/s\u001b[0m eta \u001b[36m0:00:00\u001b[0m\n",
            "\u001b[?25h  Preparing metadata (setup.py) ... \u001b[?25l\u001b[?25hdone\n",
            "Requirement already satisfied: numpy in /usr/local/lib/python3.10/dist-packages (from tflearn) (1.25.2)\n",
            "Requirement already satisfied: six in /usr/local/lib/python3.10/dist-packages (from tflearn) (1.16.0)\n",
            "Requirement already satisfied: Pillow in /usr/local/lib/python3.10/dist-packages (from tflearn) (9.4.0)\n",
            "Building wheels for collected packages: tflearn\n",
            "  Building wheel for tflearn (setup.py) ... \u001b[?25l\u001b[?25hdone\n",
            "  Created wheel for tflearn: filename=tflearn-0.5.0-py3-none-any.whl size=127283 sha256=1600cf159c15de8a93ed62e04d7a77275e249dba82af2f4abdee4d5be5911964\n",
            "  Stored in directory: /root/.cache/pip/wheels/55/fb/7b/e06204a0ceefa45443930b9a250cb5ebe31def0e4e8245a465\n",
            "Successfully built tflearn\n",
            "Installing collected packages: tflearn\n",
            "Successfully installed tflearn-0.5.0\n"
          ]
        },
        {
          "output_type": "stream",
          "name": "stderr",
          "text": [
            "WARNING:tensorflow:From /usr/local/lib/python3.10/dist-packages/tensorflow/python/compat/v2_compat.py:108: disable_resource_variables (from tensorflow.python.ops.variable_scope) is deprecated and will be removed in a future version.\n",
            "Instructions for updating:\n",
            "non-resource variables are not supported in the long term\n"
          ]
        },
        {
          "output_type": "error",
          "ename": "ImportError",
          "evalue": "cannot import name 'is_sequence' from 'tensorflow.python.util.nest' (/usr/local/lib/python3.10/dist-packages/tensorflow/python/util/nest.py)",
          "traceback": [
            "\u001b[0;31m---------------------------------------------------------------------------\u001b[0m",
            "\u001b[0;31mImportError\u001b[0m                               Traceback (most recent call last)",
            "\u001b[0;32m<ipython-input-19-799d0b4f5b5d>\u001b[0m in \u001b[0;36m<cell line: 2>\u001b[0;34m()\u001b[0m\n\u001b[1;32m      1\u001b[0m \u001b[0mget_ipython\u001b[0m\u001b[0;34m(\u001b[0m\u001b[0;34m)\u001b[0m\u001b[0;34m.\u001b[0m\u001b[0msystem\u001b[0m\u001b[0;34m(\u001b[0m\u001b[0;34m'pip install tflearn'\u001b[0m\u001b[0;34m)\u001b[0m\u001b[0;34m\u001b[0m\u001b[0;34m\u001b[0m\u001b[0m\n\u001b[0;32m----> 2\u001b[0;31m \u001b[0;32mimport\u001b[0m \u001b[0mtflearn\u001b[0m\u001b[0;34m.\u001b[0m\u001b[0mdatasets\u001b[0m\u001b[0;34m.\u001b[0m\u001b[0moxflower17\u001b[0m \u001b[0;32mas\u001b[0m \u001b[0moxflower17\u001b[0m\u001b[0;34m\u001b[0m\u001b[0;34m\u001b[0m\u001b[0m\n\u001b[0m\u001b[1;32m      3\u001b[0m \u001b[0mX\u001b[0m\u001b[0;34m,\u001b[0m \u001b[0mY\u001b[0m \u001b[0;34m=\u001b[0m \u001b[0moxflower17\u001b[0m\u001b[0;34m.\u001b[0m\u001b[0mload_data\u001b[0m\u001b[0;34m(\u001b[0m\u001b[0mone_hot\u001b[0m\u001b[0;34m=\u001b[0m\u001b[0;32mTrue\u001b[0m\u001b[0;34m)\u001b[0m\u001b[0;34m\u001b[0m\u001b[0;34m\u001b[0m\u001b[0m\n",
            "\u001b[0;32m/usr/local/lib/python3.10/dist-packages/tflearn/__init__.py\u001b[0m in \u001b[0;36m<module>\u001b[0;34m\u001b[0m\n\u001b[1;32m     23\u001b[0m \u001b[0;34m\u001b[0m\u001b[0m\n\u001b[1;32m     24\u001b[0m \u001b[0;31m# Predefined ops\u001b[0m\u001b[0;34m\u001b[0m\u001b[0;34m\u001b[0m\u001b[0m\n\u001b[0;32m---> 25\u001b[0;31m \u001b[0;32mfrom\u001b[0m \u001b[0;34m.\u001b[0m\u001b[0mlayers\u001b[0m \u001b[0;32mimport\u001b[0m \u001b[0mnormalization\u001b[0m\u001b[0;34m\u001b[0m\u001b[0;34m\u001b[0m\u001b[0m\n\u001b[0m\u001b[1;32m     26\u001b[0m \u001b[0;32mfrom\u001b[0m \u001b[0;34m.\u001b[0m \u001b[0;32mimport\u001b[0m \u001b[0mmetrics\u001b[0m\u001b[0;34m\u001b[0m\u001b[0;34m\u001b[0m\u001b[0m\n\u001b[1;32m     27\u001b[0m \u001b[0;32mfrom\u001b[0m \u001b[0;34m.\u001b[0m \u001b[0;32mimport\u001b[0m \u001b[0mactivations\u001b[0m\u001b[0;34m\u001b[0m\u001b[0;34m\u001b[0m\u001b[0m\n",
            "\u001b[0;32m/usr/local/lib/python3.10/dist-packages/tflearn/layers/__init__.py\u001b[0m in \u001b[0;36m<module>\u001b[0;34m\u001b[0m\n\u001b[1;32m      9\u001b[0m \u001b[0;32mfrom\u001b[0m \u001b[0;34m.\u001b[0m\u001b[0mnormalization\u001b[0m \u001b[0;32mimport\u001b[0m \u001b[0mbatch_normalization\u001b[0m\u001b[0;34m,\u001b[0m \u001b[0mlocal_response_normalization\u001b[0m\u001b[0;34m\u001b[0m\u001b[0;34m\u001b[0m\u001b[0m\n\u001b[1;32m     10\u001b[0m \u001b[0;32mfrom\u001b[0m \u001b[0;34m.\u001b[0m\u001b[0mestimator\u001b[0m \u001b[0;32mimport\u001b[0m \u001b[0mregression\u001b[0m\u001b[0;34m\u001b[0m\u001b[0;34m\u001b[0m\u001b[0m\n\u001b[0;32m---> 11\u001b[0;31m \u001b[0;32mfrom\u001b[0m \u001b[0;34m.\u001b[0m\u001b[0mrecurrent\u001b[0m \u001b[0;32mimport\u001b[0m \u001b[0mlstm\u001b[0m\u001b[0;34m,\u001b[0m \u001b[0mgru\u001b[0m\u001b[0;34m,\u001b[0m \u001b[0msimple_rnn\u001b[0m\u001b[0;34m,\u001b[0m \u001b[0mbidirectional_rnn\u001b[0m\u001b[0;34m,\u001b[0m\u001b[0;31m \u001b[0m\u001b[0;31m\\\u001b[0m\u001b[0;34m\u001b[0m\u001b[0;34m\u001b[0m\u001b[0m\n\u001b[0m\u001b[1;32m     12\u001b[0m     \u001b[0mBasicRNNCell\u001b[0m\u001b[0;34m,\u001b[0m \u001b[0mBasicLSTMCell\u001b[0m\u001b[0;34m,\u001b[0m \u001b[0mGRUCell\u001b[0m\u001b[0;34m\u001b[0m\u001b[0;34m\u001b[0m\u001b[0m\n\u001b[1;32m     13\u001b[0m \u001b[0;32mfrom\u001b[0m \u001b[0;34m.\u001b[0m\u001b[0membedding_ops\u001b[0m \u001b[0;32mimport\u001b[0m \u001b[0membedding\u001b[0m\u001b[0;34m\u001b[0m\u001b[0;34m\u001b[0m\u001b[0m\n",
            "\u001b[0;32m/usr/local/lib/python3.10/dist-packages/tflearn/layers/recurrent.py\u001b[0m in \u001b[0;36m<module>\u001b[0;34m\u001b[0m\n\u001b[1;32m     15\u001b[0m     \u001b[0;32mfrom\u001b[0m \u001b[0mtensorflow\u001b[0m\u001b[0;34m.\u001b[0m\u001b[0mcontrib\u001b[0m\u001b[0;34m.\u001b[0m\u001b[0mrnn\u001b[0m\u001b[0;34m.\u001b[0m\u001b[0mpython\u001b[0m\u001b[0;34m.\u001b[0m\u001b[0mops\u001b[0m \u001b[0;32mimport\u001b[0m \u001b[0mcore_rnn_cell\u001b[0m\u001b[0;34m\u001b[0m\u001b[0;34m\u001b[0m\u001b[0m\n\u001b[1;32m     16\u001b[0m \u001b[0;34m\u001b[0m\u001b[0m\n\u001b[0;32m---> 17\u001b[0;31m \u001b[0;32mfrom\u001b[0m \u001b[0mtensorflow\u001b[0m\u001b[0;34m.\u001b[0m\u001b[0mpython\u001b[0m\u001b[0;34m.\u001b[0m\u001b[0mutil\u001b[0m\u001b[0;34m.\u001b[0m\u001b[0mnest\u001b[0m \u001b[0;32mimport\u001b[0m \u001b[0mis_sequence\u001b[0m\u001b[0;34m\u001b[0m\u001b[0;34m\u001b[0m\u001b[0m\n\u001b[0m\u001b[1;32m     18\u001b[0m \u001b[0;34m\u001b[0m\u001b[0m\n\u001b[1;32m     19\u001b[0m \u001b[0;32mfrom\u001b[0m \u001b[0;34m.\u001b[0m\u001b[0;34m.\u001b[0m \u001b[0;32mimport\u001b[0m \u001b[0mconfig\u001b[0m\u001b[0;34m\u001b[0m\u001b[0;34m\u001b[0m\u001b[0m\n",
            "\u001b[0;31mImportError\u001b[0m: cannot import name 'is_sequence' from 'tensorflow.python.util.nest' (/usr/local/lib/python3.10/dist-packages/tensorflow/python/util/nest.py)",
            "",
            "\u001b[0;31m---------------------------------------------------------------------------\u001b[0;32m\nNOTE: If your import is failing due to a missing package, you can\nmanually install dependencies using either !pip or !apt.\n\nTo view examples of installing some common dependencies, click the\n\"Open Examples\" button below.\n\u001b[0;31m---------------------------------------------------------------------------\u001b[0m\n"
          ],
          "errorDetails": {
            "actions": [
              {
                "action": "open_url",
                "actionText": "Open Examples",
                "url": "/notebooks/snippets/importing_libraries.ipynb"
              }
            ]
          }
        }
      ],
      "source": [
        "!pip install tflearn\n",
        "import tflearn.datasets.oxflower17 as oxflower17\n",
        "X, Y = oxflower17.load_data(one_hot=True)"
      ]
    },
    {
      "cell_type": "code",
      "execution_count": null,
      "metadata": {
        "id": "1CQvQoLSYVPy"
      },
      "outputs": [],
      "source": [
        "model = Sequential()\n",
        "\n",
        "# 第一卷積塊\n",
        "model.add(Conv2D(96, kernel_size=(11, 11), strides=(4, 4), activation='relu', input_shape=(224, 224, 3)))\n",
        "model.add(MaxPooling2D(pool_size=(3, 3), strides=(2, 2)))\n",
        "model.add(BatchNormalization())\n",
        "\n",
        "# 第二卷積塊\n",
        "model.add(Conv2D(256, kernel_size=(5, 5), activation='relu'))\n",
        "model.add(MaxPooling2D(pool_size=(3, 3), strides=(2, 2)))\n",
        "model.add(BatchNormalization())\n",
        "\n",
        "# 第三卷積塊\n",
        "model.add(Conv2D(256, kernel_size=(3, 3), activation='relu'))\n",
        "model.add(Conv2D(384, kernel_size=(3, 3), activation='relu'))\n",
        "model.add(Conv2D(384, kernel_size=(3, 3), activation='relu'))\n",
        "model.add(MaxPooling2D(pool_size=(3, 3), strides=(2, 2)))\n",
        "model.add(BatchNormalization())\n",
        "\n",
        "# 密集層\n",
        "model.add(Flatten())\n",
        "model.add(Dense(4096, activation='tanh'))\n",
        "model.add(Dropout(0.5))\n",
        "model.add(Dense(4096, activation='tanh'))\n",
        "model.add(Dropout(0.5))\n",
        "\n",
        "model.add(Dense(17, activation='softmax'))"
      ]
    }
  ],
  "metadata": {
    "colab": {
      "provenance": [],
      "collapsed_sections": [
        "TuM64uLKkaPW",
        "XMwGHwd8YLut"
      ],
      "gpuType": "T4"
    },
    "kernelspec": {
      "display_name": "Python 3",
      "name": "python3"
    },
    "language_info": {
      "name": "python"
    },
    "accelerator": "GPU"
  },
  "nbformat": 4,
  "nbformat_minor": 0
}