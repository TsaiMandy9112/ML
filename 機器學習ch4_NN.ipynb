{
  "nbformat": 4,
  "nbformat_minor": 0,
  "metadata": {
    "colab": {
      "provenance": []
    },
    "kernelspec": {
      "name": "python3",
      "display_name": "Python 3"
    },
    "language_info": {
      "name": "python"
    }
  },
  "cells": [
    {
      "cell_type": "markdown",
      "source": [
        "#權重初始化 (weight initialization)"
      ],
      "metadata": {
        "id": "e1_tMgeUHHVw"
      }
    },
    {
      "cell_type": "code",
      "execution_count": 1,
      "metadata": {
        "id": "0wqtNCZ0HCWh"
      },
      "outputs": [],
      "source": [
        "import numpy as np\n",
        "import matplotlib.pyplot as plt\n",
        "from tensorflow.keras.models import Sequential\n",
        "from tensorflow.keras.layers import Dense, Activation\n",
        "from tensorflow.keras.initializers import Zeros, RandomNormal, glorot_normal, glorot_uniform"
      ]
    },
    {
      "cell_type": "code",
      "source": [
        "n_input = 784 #輸入有784個值\n",
        "n_dense = 256 #輸出有256個值"
      ],
      "metadata": {
        "id": "AMGbt-2tHNE9"
      },
      "execution_count": 2,
      "outputs": []
    },
    {
      "cell_type": "markdown",
      "source": [
        "###設定權重的初始值"
      ],
      "metadata": {
        "id": "r53wYkM2HO5W"
      }
    },
    {
      "cell_type": "code",
      "source": [
        "b_init = Zeros() #b是截距項"
      ],
      "metadata": {
        "id": "zoE7ayAOHP6M"
      },
      "execution_count": 4,
      "outputs": []
    },
    {
      "cell_type": "code",
      "source": [
        "# w_init = RandomNormal(stddev=1.0) #從標準常態分佈取樣來初始化權重\n",
        "# w_init = glorot_normal()\n",
        "w_init = glorot_uniform()"
      ],
      "metadata": {
        "id": "a9TPdS4NHTRV"
      },
      "execution_count": 30,
      "outputs": []
    },
    {
      "cell_type": "markdown",
      "source": [
        "###建構神經網路"
      ],
      "metadata": {
        "id": "bqsfFF3oHUBf"
      }
    },
    {
      "cell_type": "code",
      "source": [
        "model = Sequential()\n",
        "model.add(Dense(n_dense,\n",
        "                input_dim=n_input,\n",
        "                kernel_initializer=w_init,\n",
        "                bias_initializer=b_init))\n",
        "model.add(Activation('sigmoid'))\n",
        "# model.add(Activation('tanh'))\n",
        "# model.add(Activation('relu'))"
      ],
      "metadata": {
        "id": "N5zd90qYHXFl"
      },
      "execution_count": 31,
      "outputs": []
    },
    {
      "cell_type": "markdown",
      "source": [
        "###產生輸入資料, 並算出密集層 256 個神經元的激活值"
      ],
      "metadata": {
        "id": "8XM4JexPHYs_"
      }
    },
    {
      "cell_type": "code",
      "source": [
        "x = np.random.random((1,n_input)) #設定亂數值來輸入資料"
      ],
      "metadata": {
        "id": "8BdwbKgWHcSI"
      },
      "execution_count": 32,
      "outputs": []
    },
    {
      "cell_type": "code",
      "source": [
        "a = model.predict(x) #激活值a就是激活函數的輸出值"
      ],
      "metadata": {
        "colab": {
          "base_uri": "https://localhost:8080/"
        },
        "id": "lOV3DIFrHcVO",
        "outputId": "6952438c-0710-43e8-c9ea-b8b6cc458b57"
      },
      "execution_count": 33,
      "outputs": [
        {
          "output_type": "stream",
          "name": "stderr",
          "text": [
            "WARNING:tensorflow:6 out of the last 6 calls to <function Model.make_predict_function.<locals>.predict_function at 0x788232c41900> triggered tf.function retracing. Tracing is expensive and the excessive number of tracings could be due to (1) creating @tf.function repeatedly in a loop, (2) passing tensors with different shapes, (3) passing Python objects instead of tensors. For (1), please define your @tf.function outside of the loop. For (2), @tf.function has reduce_retracing=True option that can avoid unnecessary retracing. For (3), please refer to https://www.tensorflow.org/guide/function#controlling_retracing and https://www.tensorflow.org/api_docs/python/tf/function for  more details.\n"
          ]
        },
        {
          "output_type": "stream",
          "name": "stdout",
          "text": [
            "1/1 [==============================] - 0s 61ms/step\n"
          ]
        }
      ]
    },
    {
      "cell_type": "markdown",
      "source": [
        "###畫圖查看各激活值的分佈"
      ],
      "metadata": {
        "id": "snXIwbafHjYj"
      }
    },
    {
      "cell_type": "code",
      "source": [
        "_ = plt.hist(np.transpose(a))\n",
        "#註：由於神經網路的初始權重參數是隨機設定的, 參雜了隨機性, 因此底下 (或您重跑一次) 的結果會與書中有小差異"
      ],
      "metadata": {
        "colab": {
          "base_uri": "https://localhost:8080/",
          "height": 430
        },
        "id": "hVXkRYkpHcYF",
        "outputId": "d77714e2-5d63-4f48-bff2-94270525b1c5"
      },
      "execution_count": 34,
      "outputs": [
        {
          "output_type": "display_data",
          "data": {
            "text/plain": [
              "<Figure size 640x480 with 1 Axes>"
            ],
            "image/png": "[encoded data removed]"
          },
          "metadata": {}
        }
      ]
    }
  ]
}